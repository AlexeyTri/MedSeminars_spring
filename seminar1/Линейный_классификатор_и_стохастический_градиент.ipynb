{
  "nbformat": 4,
  "nbformat_minor": 0,
  "metadata": {
    "colab": {
      "provenance": [],
      "toc_visible": true,
      "authorship_tag": "ABX9TyPXArdJxI0TBJ4fk52QFBcZ",
      "include_colab_link": true
    },
    "kernelspec": {
      "name": "python3",
      "display_name": "Python 3"
    },
    "language_info": {
      "name": "python"
    }
  },
  "cells": [
    {
      "cell_type": "markdown",
      "metadata": {
        "id": "view-in-github",
        "colab_type": "text"
      },
      "source": [
        "<a href=\"https://colab.research.google.com/github/AlexeyTri/MedSeminars_spring/blob/master/seminar1/%D0%9B%D0%B8%D0%BD%D0%B5%D0%B9%D0%BD%D1%8B%D0%B9_%D0%BA%D0%BB%D0%B0%D1%81%D1%81%D0%B8%D1%84%D0%B8%D0%BA%D0%B0%D1%82%D0%BE%D1%80_%D0%B8_%D1%81%D1%82%D0%BE%D1%85%D0%B0%D1%81%D1%82%D0%B8%D1%87%D0%B5%D1%81%D0%BA%D0%B8%D0%B9_%D0%B3%D1%80%D0%B0%D0%B4%D0%B8%D0%B5%D0%BD%D1%82.ipynb\" target=\"_parent\"><img src=\"https://colab.research.google.com/assets/colab-badge.svg\" alt=\"Open In Colab\"/></a>"
      ]
    },
    {
      "cell_type": "markdown",
      "source": [
        "**Линейные методы классификации и регрессии, метод стохастического градиентного спуска**"
      ],
      "metadata": {
        "id": "_C1boNUw83rP"
      }
    },
    {
      "cell_type": "code",
      "source": [
        "import matplotlib.pyplot as plt\n",
        "from matplotlib import gridspec\n",
        "from scipy.special import expit\n",
        "from tqdm.notebook import tqdm\n",
        "import seaborn as sns\n",
        "import pandas as pd\n",
        "import torch\n",
        "import numpy as np\n",
        "\n",
        "from sklearn.linear_model import (LogisticRegression, LinearRegression)\n",
        "# выбор модели по минимуму функционала ошибки -> перебор валидационной выборки\n",
        "from sklearn.model_selection import LeaveOneOut, KFold"
      ],
      "metadata": {
        "id": "o-uRPmpaUEpL"
      },
      "execution_count": null,
      "outputs": []
    },
    {
      "cell_type": "code",
      "source": [
        "# пример дифференцирования\n",
        "w = torch.ones(3, requires_grad=True)\n",
        "\n",
        "q = w.T@w\n",
        "q.backward()\n",
        "print(w.grad)"
      ],
      "metadata": {
        "colab": {
          "base_uri": "https://localhost:8080/"
        },
        "id": "waH80MovyE3c",
        "outputId": "96d03665-42e1-41fb-f373-fccc849b4add"
      },
      "execution_count": null,
      "outputs": [
        {
          "output_type": "stream",
          "name": "stderr",
          "text": [
            "<ipython-input-2-56239f3c1f4a>:4: UserWarning: The use of `x.T` on tensors of dimension other than 2 to reverse their shape is deprecated and it will throw an error in a future release. Consider `x.mT` to transpose batches of matrices or `x.permute(*torch.arange(x.ndim - 1, -1, -1))` to reverse the dimensions of a tensor. (Triggered internally at ../aten/src/ATen/native/TensorShape.cpp:3277.)\n",
            "  q = w.T@w\n"
          ]
        },
        {
          "output_type": "stream",
          "name": "stdout",
          "text": [
            "tensor([2., 2., 2.])\n"
          ]
        }
      ]
    },
    {
      "cell_type": "markdown",
      "source": [
        "# Опитимизационные задачи\n",
        "\n",
        "задача оптимизации\n",
        "\n",
        "\\begin{align}\n",
        "\\hat{𝐰} = argmin_{𝐰\\in{𝕎}}{ℒ}(𝐰,X, y)\n",
        "\\end{align}\n",
        "\n",
        "как правило данные задачи решают двумя способами:\n",
        "\n",
        "1. аналитическое решение - не все ${ℒ}$ имеют решение\n",
        "2. стохастический градиентный спуск"
      ],
      "metadata": {
        "id": "PH7z69dPUtko"
      }
    },
    {
      "cell_type": "markdown",
      "source": [
        "## аналитическое решение для задач линейной регрессии: $y\\in ℝ ^{n}$\n",
        "\n",
        "* линейная модель регресии:\n",
        "\n",
        "\\begin{align}\n",
        " {𝓕} = \\{ f(w, x) = w^{⊤}x|w \\in ℝ ^{n}\\}\n",
        "\\end{align}\n",
        "\n",
        "\n",
        "* решаем следующую оптимизационную задачу:\n",
        "\n",
        "\n",
        "\\begin{align}\n",
        "\\hat\\theta = argmin_{{𝐰}\\in{ℝ ^{n}}}\\frac{1}{l}\\sum_{i=1}^l \\left(w^{⊤}x_{i} - y_{i} \\right)^2\n",
        "\\end{align}\n",
        "\n",
        "в матричном виде:\n",
        "\n",
        "\n",
        "\\begin{align}\n",
        "\\sum_{i=1}^l \\left(w^{⊤}x_{i} - y_{i} \\right)^2 =\\left(Xw - y\\right)^{⊤}\\left(Xw - y\\right) &= w^{⊤}X^{⊤}Xw - 2yXw + y^{⊤}y\n",
        "\\end{align}\n",
        "\n",
        "* для нахождения оптимального $w$ найдем точку экстремума:\n",
        "\n",
        "\n",
        "\\begin{align}\n",
        "\\frac{∂}{\\partial w}\\left(w^{⊤}X^{⊤}Xw - 2yXw + y^{⊤}y\\right) = 0 = 2X^{⊤}Xw - 2X^{⊤}y \\implies \\hat{w} = \\left(X^{⊤}X\\right)^{-1}X^{⊤}y\n",
        "\\end{align}\n",
        "\n"
      ],
      "metadata": {
        "id": "60vuuEjfXu61"
      }
    },
    {
      "cell_type": "code",
      "source": [
        "# пример аналитического решения задачи регресии\n",
        "np.random.seed(0)\n",
        "l = 40\n",
        "\n",
        "# ГЕНЕРАЦИЯ ДАННЫХ \n",
        "x = np.linspace(0, 30, num=l)\n",
        "Y = x + 4*np.sin(x) + 3 *np.random.randn(l)\n",
        "\n",
        "# Генерация признаков\n",
        "X = np.vstack([np.ones_like(x), x, np.sin(x)]).T\n",
        "\n",
        "#Аналитическое решение\n",
        "w = np.linalg.inv(X.T@X)@X.T@Y"
      ],
      "metadata": {
        "id": "VeHnr8dpVFkY"
      },
      "execution_count": null,
      "outputs": []
    },
    {
      "cell_type": "code",
      "source": [
        "plt.plot(x, Y, \".\", label=\"train points\")\n",
        "\n",
        "x_plot = np.linspace(0, 30, num=10000)\n",
        "plt.plot(x_plot, 4*np.sin(x_plot) + x_plot, label=\"real\" )\n",
        "\n",
        "X_plot = np.vstack([np.ones_like(x_plot), x_plot, np.sin(x_plot)]).T\n",
        "plt.plot(x_plot, X_plot@w, label=\"aproximation\")\n",
        "\n",
        "plt.legend(loc=\"best\")\n",
        "plt.show"
      ],
      "metadata": {
        "colab": {
          "base_uri": "https://localhost:8080/",
          "height": 284
        },
        "id": "qIEpoVFbUlwk",
        "outputId": "bfe63427-9a5b-4905-cf41-d6ac2aef6a82"
      },
      "execution_count": null,
      "outputs": [
        {
          "output_type": "execute_result",
          "data": {
            "text/plain": [
              "<function matplotlib.pyplot.show(*args, **kw)>"
            ]
          },
          "metadata": {},
          "execution_count": 4
        },
        {
          "output_type": "display_data",
          "data": {
            "text/plain": [
              "<Figure size 432x288 with 1 Axes>"
            ],
            "image/png": "[encoded data removed]"
          },
          "metadata": {
            "needs_background": "light"
          }
        }
      ]
    },
    {
      "cell_type": "markdown",
      "source": [
        "## модель линейной классификации\n",
        "\n",
        "* линейная модель бинарной $\\{-1, +1\\}$ классификации:\n",
        "\n",
        "\n",
        "\\begin{align}\n",
        " {𝓕_{bcl}} = \\{ f(w, x) = sign(w^{⊤}x)|w \\in ℝ ^{n}\\}\n",
        "\\end{align}\n",
        "\n",
        "\n",
        "* выражая $w$, получаем следующую оптимизационную задачу:\n",
        "\n",
        "\n",
        "\\begin{align}\n",
        "\\hat{𝐰} = argmin_{𝐰\\in{𝕎}}{ℝ ^{n}}\\frac{1}{l}\\sum_{i=1}^l \\left[w^{⊤}x_{i} \\ne y_{i} \\right]=argmin_{𝐰\\in{𝕎}}{ℝ ^{n}}\\frac{1}{l}\\sum_{i=1}^l \\left[y_{i}w^{⊤}x_{i}<0 \\right]\n",
        "\\end{align}\n",
        "\n",
        "❗ данная задача не имеет аналитического решения. Применим метод градиетного спуска\n",
        "\n",
        "\\begin{align}\n",
        "\\hat{𝐰} = argmin_{𝐰\\in{ℝ ^{n}}}\\frac{1}{l}\\sum_{i=1}^l \\log_{2}(1 + e^{-y_{i}w^{⊤}x_{i}})\n",
        "\\end{align}\n"
      ],
      "metadata": {
        "id": "LJUcq-cR9uL_"
      }
    },
    {
      "cell_type": "code",
      "source": [
        "def sign(x):\n",
        "    # функция не дифференцируема, что видно на графике\n",
        "    return np.array(x <= 0, dtype=np.int64)\n",
        "\n",
        "def upper_bound(x):\n",
        "    # логистическая функция\n",
        "    return np.log2(1 + np.exp(-x))\n",
        "\n",
        "x = np.linspace(-5, 8, 100)\n",
        "plt.plot(x, sign(x), label=\"$sign(x)$\")\n",
        "plt.plot(x, upper_bound(x), label=\"$\\log(1+\\exp(-x))$\")\n",
        "plt.plot(x, (1/(1+ np.exp(-x))), label=\"sigmoid\")\n",
        "\n",
        "plt.xlabel('$x$')\n",
        "plt.plot(\"$L$\")\n",
        "plt.legend(loc=\"best\")\n",
        "plt.show"
      ],
      "metadata": {
        "colab": {
          "base_uri": "https://localhost:8080/",
          "height": 296
        },
        "id": "ld1ZUtJmYNrD",
        "outputId": "958ad8ee-d405-492d-f0b8-936cb4f08b0f"
      },
      "execution_count": null,
      "outputs": [
        {
          "output_type": "execute_result",
          "data": {
            "text/plain": [
              "<function matplotlib.pyplot.show(*args, **kw)>"
            ]
          },
          "metadata": {},
          "execution_count": 10
        },
        {
          "output_type": "display_data",
          "data": {
            "text/plain": [
              "<Figure size 432x288 with 1 Axes>"
            ],
            "image/png": "[encoded data removed]"
          },
          "metadata": {
            "needs_background": "light"
          }
        }
      ]
    },
    {
      "cell_type": "markdown",
      "source": [
        "### стохастический градиентный спуск\n",
        "\n",
        "* градиентный спуск:\n",
        "\n",
        "\\begin{align}\n",
        "\\hat{𝐰_{k+1}} = 𝐰_{k} - \\alpha_{k} ∇{ℒ}(𝐰,X, y)\n",
        "\\end{align}\n",
        "\n",
        "\"минус\" - долго считать сумму ${ℒ}(𝐰,X, y) = \\frac{1}{l}\\sum_{i=1}^l q\\left(w,x_{i},y_{i} \\right)$\n",
        "\n",
        "* рассмотрим стохастический градиентный спуск\n",
        "\n",
        "\n",
        "\\begin{align}\n",
        "\\hat{𝐰_{k+1}} = 𝐰_{k} - \\alpha_{k} ∇q\\left(w,x_{ik},y_{ik} \\right)\n",
        "\\end{align}\n",
        "\n",
        "❗если индекс объекта $ik$ сгенерирован равновероятно, то справедливо равенство:\n",
        "\n",
        "\n",
        "\\begin{align}\n",
        "Ε∇q\\left(w,x_{ik},y_{ik} \\right) = \\frac{1}{l}\\sum_{i=1}^l q\\left(w,x_{i},y_{i} \\right) = ∇{ℒ}(𝐰,X, y)\n",
        "\\end{align}\n"
      ],
      "metadata": {
        "id": "SDSNEJw4CLJY"
      }
    },
    {
      "cell_type": "markdown",
      "source": [
        "### анализ сходимости стохастического градиента\n",
        "\n",
        "\\begin{align}\n",
        "{ℒ}(𝐰) = \\frac{1}{l}\\sum_{i=1}^l q\\left(w,i\\right)⟶ \\min_{w}\n",
        "\\end{align}\n",
        "\n",
        "${ℒ}(𝐰)$ выпуклая по $w$\n",
        "\n",
        "* стохастический градиентный спуск:\n",
        "\n",
        "\n",
        "\\begin{align}\n",
        "\\hat{𝐰_{k+1}} = 𝐰_{k} - \\alpha_{k} \\hat g_{k}\\\\\\\\\n",
        "Ε\\hat g{k} = g_{k} = ∇{ℒ}(𝐰) \n",
        "\\end{align}\n",
        "\n",
        "* рассмотрим норму невязки:\n",
        "\\begin{align}\n",
        "||𝐰_{k+1} - 𝐰^{*}||^{2} = ||𝐰_{k} - 𝐰^{*} - \\alpha_{k} \\hat g_{k}||^{2} = ||𝐰_{k} - 𝐰^{*}||^{2} - 2\\alpha_{k} \\hat g_{k}{⊤}(𝐰_{k} - 𝐰^{*}) + 2\\alpha_{k}^{2} ||\\hat g_{k}||^{2}\\\\\\\\\n",
        "Ε||𝐰_{k+1} - 𝐰^{*}||^{2} = ||𝐰_{k} - 𝐰^{*}||^{2} - 2\\alpha_{k} \\hat g_{k}^{⊤}(𝐰_{k} - 𝐰^{*}) + 2\\alpha_{k}^{2} Ε||\\hat g_{k}||^{2}\\\\\\\\\n",
        "\\alpha_{k} \\hat g_{k}^{⊤}(𝐰_{k} - 𝐰^{*}) = \\frac{1}{2}||𝐰_{k+1} - 𝐰^{*}||^{2} -\\frac{1}{2}Ε||𝐰_{k+1} - 𝐰^{*}||^{2}+\\frac{\\alpha_{k}^{2}}{2} Ε||\\hat g_{k}||^{2}\\\\\n",
        "\\text{в силу выпуклости ℒ, справедливо следующее неравенство:}\\\\\n",
        "{ℒ}(𝐰_k) - {ℒ}(𝐰^{*}) \\le g_{k}^{⊤}(𝐰_{k} - 𝐰^{*})\\\\\\\\\n",
        "\\alpha_{k}({ℒ}(𝐰_k) - {ℒ}(𝐰^{*})) \\le \\frac{1}{2}||𝐰_{k+1} - 𝐰^{*}||^{2} -\\frac{1}{2}Ε||𝐰_{k+1} - 𝐰^{*}||^{2}+\\frac{\\alpha_{k}^{2}}{2} Ε||\\hat g_{k}||^{2}\\\\\\\\\n",
        "\\text{усредним по $g_k$ для всех k=1...K и проссумируем K первых итераций:}\\\\\n",
        "\\sum_{k=1}^{K}\\alpha_{k}(Ε{ℒ}(𝐰_k) - {ℒ}(𝐰^{*})) \\le \\frac{1}{2}||𝐰_{0} - 𝐰^{*}||^{2} -\\frac{1}{2}Ε||𝐰_{k+1} - 𝐰^{*}||^{2}+\\sum_{k=1}^{K}\\frac{\\alpha_{k}^{2}}{2} Ε||\\hat g_{k}||^{2}\\le \\frac{1}{2}||𝐰_{0} - 𝐰^{*}||^{2} + \\sum_{k=1}^{K}\\frac{\\alpha_{k}^{2}}{2} Ε||\\hat g_{k}||^{2}\\\\\\\\\n",
        "\\text{используем неравенство Йенсена для выпуклой функции ℒ:}\\\\\n",
        "Ε{ℒ}(\\frac{1}{\\sum\\alpha_k}\\sum α_k𝐰_k) - {ℒ}(𝐰^{*})) \\le \\sum_{k=1}^{K}\\alpha_k(Ε{ℒ}(𝐰_k) - {ℒ}(𝐰^{*}))\\le \\frac{1}{2}||𝐰_{0} - 𝐰^{*}||^{2} + \\sum_{k=1}^{K}\\frac{\\alpha_{k}^{2}}{2} Ε||\\hat g_{k}||^{2}\\\\\\\\\n",
        "\\text{для удобства введем обозначения и предположения:}\\\\\n",
        "\\hat{𝐰_{K}} = \\frac{1}{\\sum\\alpha_k}\\sum α_k𝐰_k\\\\\n",
        "||𝐰_{0} - 𝐰^{*}||^{2} \\le 𝑅^2\\\\\n",
        "Ε||\\hat g_{k}||^{2} \\le 𝐺^2\\\\\\\\\n",
        "\\text{получаем оценку:}\\\\\n",
        "Ε{ℒ}(\\hat{𝐰_{K}}) - {ℒ}(𝐰^{*})) \\le \\frac {𝑅^2 +𝐺^2\\sum α_k^2}{2\\sum α_k^2}\\\\\\\\\n",
        "\\text{проанализируем выражение на скорость сходимости:}\\\\\n",
        "\\text{первый способ выбора шага:}\\\\\n",
        "\\sum α_k = ∞, \\sum α_k^2 < ∞, \\left[α_k = \\frac{1}{k}\\right], ≈ Q(\\frac{1}{\\log_{}K})\\\\\\\\\n",
        "\\text{второй способ выбора шага:}\\\\\n",
        "\\sum α_k = ∞, \\frac{\\sum α_k^2}{\\sum α_k} = 0, \\left[α_k = \\frac{1}{\\sqrt{k}}\\right], ≈ Q(\\frac{\\log_{}K}{\\sqrt{k}})\\\\\\\\\n",
        "\\text{ВЫВОД-?}\\\\\n",
        "\\end{align}"
      ],
      "metadata": {
        "id": "wUall5nTj6jG"
      }
    },
    {
      "cell_type": "markdown",
      "source": [
        "## задача бинарной классификации\n",
        "\n",
        "\\begin{align}\n",
        "\\hat{𝐰} = argmin_{𝐰\\in{ℝ ^{n}}}\\frac{1}{l}\\sum_{i=1}^l \\log_{2}(1 + e^{-y_{i}w^{⊤}x_{i}})\n",
        "\\end{align}"
      ],
      "metadata": {
        "id": "e-XrOtH1qOBW"
      }
    },
    {
      "cell_type": "code",
      "source": [
        "torch.manual_seed(0)\n",
        "\n",
        "l= 100\n",
        "n=2\n",
        "\n",
        "X = torch.randn([l, n])\n",
        "w_true = torch.randn([n])\n",
        "Y = torch.ones([l])\n",
        "\n",
        "Y[X@w_true < 0 ] = -1"
      ],
      "metadata": {
        "id": "NJCMQxyebSaY"
      },
      "execution_count": null,
      "outputs": []
    },
    {
      "cell_type": "code",
      "source": [
        "torch.manual_seed(0)\n",
        "np.random.seed(0)\n",
        "w = torch.randn([n], requires_grad=True) #\n",
        "\n",
        "K = l\n",
        "list_of_loss_sqrt = []\n",
        "for k in range(1, K+1):\n",
        "    # считаем ошибку L на каждом шаге\n",
        "    with torch.no_grad():\n",
        "        list_of_loss_sqrt.append(\n",
        "            torch.mean(torch.log2(1 + torch.exp(-Y*(X@w))))\n",
        "        )\n",
        "    # выбираем случайный элемент выборки\n",
        "    ind = np.random.randint(low=0, high=l)\n",
        "    # шаг затухания\n",
        "    alpha = 1/np.sqrt(k)\n",
        "    print(w)\n",
        "\n",
        "    # считаем ошибку на элементе\n",
        "    q = torch.log2(1 + torch.exp(-Y[ind] * (X[ind]@w)))\n",
        "    print(q)\n",
        "\n",
        "    # считаме q с крышкой\n",
        "    q.backward()\n",
        "    print(w.grad)\n",
        "\n",
        "    # делаем градиентый шаг\n",
        "    with torch.no_grad():\n",
        "        # wk+1^=wk−αkg^k\n",
        "        w.add_(w.grad, alpha=-1 * alpha)\n",
        "    \n",
        "    # обнуляем градиент\n",
        "    w.grad.zero_()"
      ],
      "metadata": {
        "id": "HMsSsY31qxkI"
      },
      "execution_count": null,
      "outputs": []
    },
    {
      "cell_type": "code",
      "source": [
        "pred = torch.ones([l])\n",
        "pred[X@w <0] = -1\n",
        "print('точность прогноза : {}'.format(torch.mean((pred == Y).float()).item()))"
      ],
      "metadata": {
        "colab": {
          "base_uri": "https://localhost:8080/"
        },
        "id": "d9EDCvlat-yB",
        "outputId": "5adeca62-4e8a-4fa8-eb87-8c405dee3ecf"
      },
      "execution_count": null,
      "outputs": [
        {
          "output_type": "stream",
          "name": "stdout",
          "text": [
            "точность прогноза : 0.9200000166893005\n"
          ]
        }
      ]
    },
    {
      "cell_type": "code",
      "source": [
        "torch.manual_seed(0)\n",
        "np.random.seed(0)\n",
        "w = torch.randn([n], requires_grad=True)\n",
        "\n",
        "K = l\n",
        "list_of_loss = []\n",
        "for k in range(1, K+1):\n",
        "    with torch.no_grad():\n",
        "        list_of_loss.append(torch.mean(torch.log2(1+ torch.exp(-Y*(X@w)))))\n",
        "    \n",
        "    ind = np.random.randint(low=1, high=l)\n",
        "    # шаг затухания\n",
        "    alpha = 1/k\n",
        "\n",
        "    q = torch.log2(1 + torch.exp(-Y[ind] * (X[ind]@w)))\n",
        "    q.backward()\n",
        "\n",
        "    with torch.no_grad():\n",
        "        w.add_(w.grad, alpha=-1 * alpha)\n",
        "    \n",
        "    w.grad.zero_()\n",
        "    "
      ],
      "metadata": {
        "id": "dBWxgTW8vmuO"
      },
      "execution_count": null,
      "outputs": []
    },
    {
      "cell_type": "code",
      "source": [
        "torch.manual_seed(0)\n",
        "w = torch.randn([n], requires_grad=True)\n",
        "\n",
        "dataset = torch.utils.data.TensorDataset(X,Y)\n",
        "generator = torch.utils.data.DataLoader(dataset, batch_size=1, shuffle=True)\n",
        "\n",
        "optimizer = torch.optim.SGD([w], lr=1)\n",
        "scheduler = torch.optim.lr_scheduler.LambdaLR(optimizer, lambda k: 1/np.sqrt(k+1))\n",
        "\n",
        "list_of_loss_torch = []\n",
        "for x, y in generator:\n",
        "    optimizer.zero_grad() # обнуляем градиенты\n",
        "\n",
        "    with torch.no_grad():\n",
        "        list_of_loss_torch.append(\n",
        "            torch.mean(torch.log2(1 + torch.exp(-Y*(X@w))))\n",
        "        )\n",
        "\n",
        "    q = torch.log2(1 + torch.exp(-y*(x@w))).mean()\n",
        "\n",
        "    q.backward()\n",
        "\n",
        "    optimizer.step()\n",
        "    scheduler.step()"
      ],
      "metadata": {
        "id": "ua54aJ1z14IR"
      },
      "execution_count": null,
      "outputs": []
    },
    {
      "cell_type": "code",
      "source": [
        "plt.plot(list_of_loss, label=\"manual: $a_k = 1/k$\")\n",
        "plt.plot(list_of_loss_sqrt, label=\"manual sqrt: $a_k = 1/k^{0.5}$\")\n",
        "plt.plot(list_of_loss_torch, label=\"manual torch: $a_k = 1/k^{0.5}$\")\n",
        "plt.legend(loc=\"best\")\n",
        "plt.show()"
      ],
      "metadata": {
        "colab": {
          "base_uri": "https://localhost:8080/",
          "height": 265
        },
        "id": "KGeXfHpA3i0Q",
        "outputId": "261fda2e-0ddd-4955-a0a2-49bb5593c59e"
      },
      "execution_count": null,
      "outputs": [
        {
          "output_type": "display_data",
          "data": {
            "text/plain": [
              "<Figure size 432x288 with 1 Axes>"
            ],
            "image/png": "[encoded data removed]"
          },
          "metadata": {
            "needs_background": "light"
          }
        }
      ]
    },
    {
      "cell_type": "markdown",
      "source": [
        "## вероятностная постановка задачи классификации"
      ],
      "metadata": {
        "id": "Nm7oIclc5roB"
      }
    },
    {
      "cell_type": "markdown",
      "source": [
        "### линейная регрессия\n",
        "\n",
        "рассмотрим следуюшее вероятностное предположение о данных:\n",
        "\n",
        "\\begin{align}\n",
        "y = w^{⊤}x + 𝜀, 𝜀 ~ 𝒩(0, β)\\\\\\\\\n",
        "\\text{пусть векторы w и x являются не случайными величинами, тогда получаем, что y является номальной случайной величиной.}\\\\\n",
        "\\text{пусть все объекты выборки являются независимыми случайными величинами, тогда получаем правдободобие выборки:}\\\\\\\\\n",
        "𝑝(y|w, X) = \\prod_{i=1}^{l}𝑝(y_{i}|x,w_{i})\\\\\n",
        "𝑝(y_{i}|w,x_{i})~ 𝒩(w^{⊤}x_{i}, β)\\\\\\\\\n",
        "\\text{принципа максимума правдоподобия (максимизация логарифмической функции правдоподобия - минимизация функции эмпирического риска):}\\\\\\\\\n",
        "${ℒ}(𝐰,X, y) = -\\sum_{i=1}^l \\log 𝑝(y_{i}|x,w_{i}) = \\sum_{i=1}^l\\left[\\frac{β}{2}(w^{⊤}x_{i} - y_{i})^2 + C\\right]\\\\\n",
        "\\text{решение ?}\\\\\\\\\n",
        "\\text{рассмотрим совместное правдоподобие модели и данных:}\\\\\n",
        "𝑝(y|w, X) = \\prod_{i=1}^{l}𝑝(y_{i}|x,w_{i})𝑝(w)\n",
        "\\text{рассмотрим}& 𝑝(w)~ 𝒩(0, ℽ𝐈)\\\\\\\\\n",
        "\\text{по принципу максимума правдоводобия:}\\\\\n",
        "{ℒ}(𝐰,X, y) = -\\sum_{i=1}^l \\log 𝑝(y_{i}|x,w_{i}) - \\log 𝑝(w_{i}) = \\sum_{i=1}^l\\left[\\frac{β}{2}(w^{⊤}x_{i} - y_{i})^2 + C_{1}\\right] + w^{⊤}w + C_{2}\\\\\\\\\n",
        "\\text{заметим, что данная задача имеет аналитическое решение:}\\\\\n",
        "\\hat{𝐰} = argmin_{𝐰\\in{ℝ ^{n}}}\\left[-\\sum_{i=1}^l \\log 𝑝(y_{i}|x,w_{i}) - \\log 𝑝(w_{i}) \\right] = argmin_{𝐰\\in{ℝ ^{n}}}\\left[\\sum_{i=1}^l\\left[\\frac{β}{2}(w^{⊤}x_{i} - y_{i})^2 + C_{1}\\right] + \\frac{ℽ}{2}w^{⊤}w + C_{2}\\right]\n",
        "\\end{align}"
      ],
      "metadata": {
        "id": "Vtx0a4WC6A8X"
      }
    },
    {
      "cell_type": "markdown",
      "source": [
        "### логистическая регрессия\n",
        "\n",
        "\n",
        "рассмотрим следующее вероятностное предположение о данных:\n",
        "\n",
        "\\begin{align}\n",
        "y = 𝚩𝖾(σ(w^{⊤}x) &, σ(x) = \\frac{1}{1+\\exp(-x)}\\\\\\\\\n",
        "\\text{принцип максимума правдоподобия:}\\\\\n",
        "{ℒ}(𝐰,X, y) = -\\sum_{i=1}^l \\log 𝑝(y_{i}|x,w_{i}) = \\sum_{i=1}^l\\left[y_i\\logσ(w^{⊤}x) + (1-y_i)\\log(1 - σ(w^{⊤}x))\\right]+C\\\\\n",
        "\\text{рассмотрим совместное правдоподобие модели и данных\n",
        "$𝑝(w) = 𝒩(0, ℽ𝐈)$}\\\\\n",
        "\\text{рассмотрим}& 𝑝(w)~ 𝒩(0, ℽ𝐈)\\\\\n",
        "\\text{по принципу максимума правдоводобия:}\\\\\n",
        "{ℒ}(𝐰,X, y) = -\\sum_{i=1}^l \\log 𝑝(y_{i}|x,w_{i}) - \\log 𝑝(w_{i}) = \\sum_{i=1}^l\\left[y_i\\logσ(w^{⊤}x) + (1-y_i)\\log(1 - σ(w^{⊤}x))\\right]+C1] + \\frac{𝛾}{2}w^{⊤}w + C_{2}\\\\\\\\\n",
        "\\end{align}\n",
        "\n",
        "* Вывод - ?"
      ],
      "metadata": {
        "id": "xdAAQ8R2eKKU"
      }
    },
    {
      "cell_type": "code",
      "source": [
        "np.random.seed(0)\n",
        "l = 50000\n",
        "n = 2\n",
        "\n",
        "X = np.random.randn(l, n)\n",
        "w = np.random.randn(n)\n",
        "Y = np.random.binomial(n=1, p=expit(X@w))"
      ],
      "metadata": {
        "id": "1wWzZ3ifBnhY"
      },
      "execution_count": null,
      "outputs": []
    },
    {
      "cell_type": "code",
      "source": [
        "gammas = [1e-10, 1e-4, 1e-3, 1e-2, .1, 1., 10., 1e2, 1e3, 1e4, 1e10]\n",
        "\n",
        "models_l2 = dict()\n",
        "for gamma in gammas:\n",
        "    model = LogisticRegression(penalty='l2', C=2/gamma, fit_intercept=False, \n",
        "                               random_state=0, solver='saga')\n",
        "    model.fit(X, Y)\n",
        "    models_l2[gamma] = model\n",
        "    \n",
        "models_l1 = dict()\n",
        "for gamma in gammas:\n",
        "    model = LogisticRegression(penalty='l1', C=2/gamma, fit_intercept=False, \n",
        "                               random_state=0, solver='saga')\n",
        "    model.fit(X, Y)\n",
        "    models_l1[gamma] = model"
      ],
      "metadata": {
        "id": "6yl1dv2QDKs-"
      },
      "execution_count": null,
      "outputs": []
    },
    {
      "cell_type": "code",
      "source": [
        "x = [models_l2[gamma].coef_[0][0] for gamma in models_l2]\n",
        "y = [models_l2[gamma].coef_[0][1] for gamma in models_l2]\n",
        "\n",
        "plt.plot(x, y, 'bo')\n",
        "plt.plot(x, y, 'b-', linewidth=1, label='l2 penalty')\n",
        "\n",
        "x = [models_l1[gamma].coef_[0][0] for gamma in models_l1]\n",
        "y = [models_l1[gamma].coef_[0][1] for gamma in models_l1]\n",
        "\n",
        "plt.plot(x, y, 'go')\n",
        "plt.plot(x, y, 'g-', linewidth=1, label='l1 penalty')\n",
        "    \n",
        "    \n",
        "plt.scatter(w[0], w[1], marker='*', c='r', label='true w')\n",
        "plt.legend(loc='best')\n",
        "plt.show()"
      ],
      "metadata": {
        "colab": {
          "base_uri": "https://localhost:8080/",
          "height": 265
        },
        "id": "SHBO9TzMFWc2",
        "outputId": "40075cff-5608-41c9-f35f-f61e5fc0c006"
      },
      "execution_count": null,
      "outputs": [
        {
          "output_type": "display_data",
          "data": {
            "text/plain": [
              "<Figure size 432x288 with 1 Axes>"
            ],
            "image/png": "[encoded data removed]"
          },
          "metadata": {
            "needs_background": "light"
          }
        }
      ]
    },
    {
      "cell_type": "markdown",
      "source": [
        "### поиск оптимального 𝛾"
      ],
      "metadata": {
        "id": "iyXgReVikB57"
      }
    },
    {
      "cell_type": "markdown",
      "source": [
        "#### LOO Leave One Out\n",
        "\n",
        "обозначим $\\hatϴ(X)$ оптимальный ветор для выборки X. Тогда:\n",
        "\n",
        "\\begin{align}\n",
        "LOO(\\mu, X_{tr}, y_{tr}, X_{vl}, y_{vl}) = \\sum_{i=1}^{l_{tr} + l_{vl}}𝑞(\\hatϴ(X_{tr}\\cup X_{vl}| x_i,μ), x_i,y_i)\\\\\\\\\n",
        "\\text{$x_i$ элемент из датасета обучения и валидации}\\\\\n",
        "\\hat\\mu = argmin_{μ\\in𝜧}LOO(\\mu, X_{tr}, y_{tr}, X_{vl}, y_{vl})\\\\\\\n",
        "\\hatϴ=\\hatϴ(X_{tr}\\cup X_{vl},\\hat μ)\n",
        "\\text{применим LOO для поиска оптимального $\\hatℽ$:}\\\\\n",
        "\\hatℽ = argmin_{ℽ\\inΓ}LOO(\\hatℽ = argmin_{ℽ\\inΓ}LOO(\\mu, X_{tr}, y_{tr}, X_{vl}, y_{vl})\\\\\n",
        "LOO(\\mu, X_{tr}, y_{tr}, X_{vl}, y_{vl}) = \\sum_{i=1}^{l_{tr} + l_{vl}}𝑞(\\hat{w}(ℽ), x_i,y_i)\n",
        "\\end{align}\n"
      ],
      "metadata": {
        "id": "GPFLKTwVlxto"
      }
    },
    {
      "cell_type": "code",
      "source": [
        "np.random.seed(0)\n",
        "l = 1000\n",
        "n = 2\n",
        "\n",
        "X_train = np.random.randn(l , n)\n",
        "X_test = np.random.randn(500, n)\n",
        "w = np.random.randn(n)\n",
        "Y_train = np.random.binomial(n = 1, p=expit(X_train@w))\n",
        "Y_test = np.random.binomial(n=1, p=expit(X_test@w))"
      ],
      "metadata": {
        "id": "U3mg6MaeGsKW"
      },
      "execution_count": null,
      "outputs": []
    },
    {
      "cell_type": "code",
      "source": [
        "gammas = [1e-10, 1e-4, 1e-3, 1e-2, .1, 1., 10., 1e2, 1e3, 1e4, 1e10]\n",
        "# KFold - возвращает индексы в соответствии с заданным количеством батчей\n",
        "kf = KFold(n_splits=3)\n",
        "number_of_batch = kf.get_n_splits(X_train)\n",
        "\n",
        "gamma_scores = dict()\n",
        "for gamma in tqdm(gammas):\n",
        "    list_of_scores= []\n",
        "    for train_index, test_index in tqdm(kf.split(X_train), total=number_of_batch, leave=False):\n",
        "        x_train, x_test = X_train[train_index],X_train[test_index]\n",
        "        y_train, y_test = Y_train[train_index], Y_train[test_index]\n",
        "        model = LogisticRegression(penalty=\"l2\", C=2/gamma, solver=\"saga\",fit_intercept=False, random_state=0)\n",
        "        model.fit(x_train, y_train)\n",
        "        list_of_scores.append(model.score(x_test, y_test))\n",
        "\n",
        "    gamma_scores[gamma] = np.mean(list_of_scores) \n"
      ],
      "metadata": {
        "id": "gMXPWEhq1SGh"
      },
      "execution_count": null,
      "outputs": []
    },
    {
      "cell_type": "code",
      "source": [
        "loo = LeaveOneOut()\n",
        "number_of_batch = loo.get_n_splits(X_train)\n",
        "\n",
        "gamma_scores = dict()\n",
        "for gamma in tqdm(gammas):\n",
        "    list_of_scores= []\n",
        "    for train_index, test_index in tqdm(loo.split(X_train), total=number_of_batch, leave=False):\n",
        "        x_train, x_test = X_train[train_index],X_train[test_index]\n",
        "        y_train, y_test = Y_train[train_index], Y_train[test_index]\n",
        "        model = LogisticRegression(penalty=\"l2\", C=2/gamma, solver=\"saga\",fit_intercept=False, random_state=0)\n",
        "        model.fit(x_train, y_train)\n",
        "        list_of_scores.append(model.score(x_test, y_test))\n",
        "\n",
        "    gamma_scores[gamma] = np.mean(list_of_scores) "
      ],
      "metadata": {
        "id": "m3xV0rg4HYp5"
      },
      "execution_count": null,
      "outputs": []
    },
    {
      "cell_type": "code",
      "source": [
        "best_gamma = sorted(gamma_scores, key=lambda x: gamma_scores[x], reverse=True)[0]\n",
        "\n",
        "model = LogisticRegression(penalty=\"l2\", C=2/best_gamma, fit_intercept=False, random_state=0, solver='saga')\n",
        "model.fit(X_train, Y_train)\n",
        "print('Точность: {}'.format(model.score(X_test, Y_test)))"
      ],
      "metadata": {
        "colab": {
          "base_uri": "https://localhost:8080/"
        },
        "id": "ZdULG-TqJJu8",
        "outputId": "e2493acf-9815-4b05-9017-05e8f6cf4d4f"
      },
      "execution_count": null,
      "outputs": [
        {
          "output_type": "stream",
          "name": "stdout",
          "text": [
            "Точность: 0.768\n"
          ]
        }
      ]
    },
    {
      "cell_type": "code",
      "source": [
        "def get_line(a, b, c=0, x_min=-10, x_max=10):\n",
        "    x1, y1 = -(-b + c)/a, -1\n",
        "    x2, y2 = -(b + c)/a, 1\n",
        "    \n",
        "    polynomial = np.poly1d(np.polyfit([x1, x2], [y1, y2], 1))\n",
        "    x_axis = np.linspace(x_min, x_max)\n",
        "    y_axis = polynomial(x_axis)\n",
        "    \n",
        "    return x_axis, y_axis"
      ],
      "metadata": {
        "id": "okE7wpCAKIz8"
      },
      "execution_count": null,
      "outputs": []
    },
    {
      "cell_type": "code",
      "source": [
        "cols = ['blue', 'red']\n",
        "\n",
        "for k in np.unique(Y_test):\n",
        "    plt.plot(X_test[Y_test==k,0], X_test[Y_test==k,1], 'o', \n",
        "             label='класс {}'.format(k), color=cols[k])\n",
        "\n",
        "plt.plot(*get_line(*model.coef_[0], x_min=-0.6, x_max=0.6), \n",
        "         linewidth=2, color='black')\n",
        "\n",
        "plt.legend(loc='best')\n",
        "plt.show()\n"
      ],
      "metadata": {
        "colab": {
          "base_uri": "https://localhost:8080/",
          "height": 265
        },
        "id": "6N09vIYXJ7cp",
        "outputId": "9c31b696-0625-46f6-fd2b-f55e5435d71c"
      },
      "execution_count": null,
      "outputs": [
        {
          "output_type": "display_data",
          "data": {
            "text/plain": [
              "<Figure size 432x288 with 1 Axes>"
            ],
            "image/png": "[encoded data removed]"
          },
          "metadata": {
            "needs_background": "light"
          }
        }
      ]
    }
  ]
}